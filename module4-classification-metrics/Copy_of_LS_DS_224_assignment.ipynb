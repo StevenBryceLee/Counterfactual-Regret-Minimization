{
  "nbformat": 4,
  "nbformat_minor": 0,
  "metadata": {
    "kernelspec": {
      "display_name": "Python 3",
      "language": "python",
      "name": "python3"
    },
    "language_info": {
      "codemirror_mode": {
        "name": "ipython",
        "version": 3
      },
      "file_extension": ".py",
      "mimetype": "text/x-python",
      "name": "python",
      "nbconvert_exporter": "python",
      "pygments_lexer": "ipython3",
      "version": "3.7.3"
    },
    "colab": {
      "name": "Copy of LS_DS_224_assignment.ipynb",
      "provenance": [],
      "include_colab_link": true
    }
  },
  "cells": [
    {
      "cell_type": "markdown",
      "metadata": {
        "id": "view-in-github",
        "colab_type": "text"
      },
      "source": [
        "<a href=\"https://colab.research.google.com/github/StevenBryceLee/Counterfactual-Regret-Minimization/blob/master/module4-classification-metrics/Copy_of_LS_DS_224_assignment.ipynb\" target=\"_parent\"><img src=\"https://colab.research.google.com/assets/colab-badge.svg\" alt=\"Open In Colab\"/></a>"
      ]
    },
    {
      "cell_type": "markdown",
      "metadata": {
        "id": "q_QKCg2Klq5c",
        "colab_type": "text"
      },
      "source": [
        "Lambda School Data Science\n",
        "\n",
        "*Unit 2, Sprint 2, Module 4*\n",
        "\n",
        "---"
      ]
    },
    {
      "cell_type": "markdown",
      "metadata": {
        "colab_type": "text",
        "id": "nCc3XZEyG3XV"
      },
      "source": [
        "# Classification Metrics\n",
        "\n",
        "## Assignment\n",
        "- [ ] If you haven't yet, [review requirements for your portfolio project](https://lambdaschool.github.io/ds/unit2), then submit your dataset.\n",
        "- [ ] Plot a confusion matrix for your Tanzania Waterpumps model.\n",
        "- [ ] Continue to participate in our Kaggle challenge. Every student should have made at least one submission that scores at least 70% accuracy (well above the majority class baseline).\n",
        "- [ ] Submit your final predictions to our Kaggle competition. Optionally, go to **My Submissions**, and _\"you may select up to 1 submission to be used to count towards your final leaderboard score.\"_\n",
        "- [ ] Commit your notebook to your fork of the GitHub repo.\n",
        "- [ ] Read [Maximizing Scarce Maintenance Resources with Data: Applying predictive modeling, precision at k, and clustering to optimize impact](http://archive.is/DelgE), by Lambda DS3 student Michael Brady. His blog post extends the Tanzania Waterpumps scenario, far beyond what's in the lecture notebook.\n",
        "\n",
        "\n",
        "## Stretch Goals\n",
        "\n",
        "### Reading\n",
        "\n",
        "- [Attacking discrimination with smarter machine learning](https://research.google.com/bigpicture/attacking-discrimination-in-ml/), by Google Research, with  interactive visualizations. _\"A threshold classifier essentially makes a yes/no decision, putting things in one category or another. We look at how these classifiers work, ways they can potentially be unfair, and how you might turn an unfair classifier into a fairer one. As an illustrative example, we focus on loan granting scenarios where a bank may grant or deny a loan based on a single, automatically computed number such as a credit score.\"_\n",
        "- [Notebook about how to calculate expected value from a confusion matrix by treating it as a cost-benefit matrix](https://github.com/podopie/DAT18NYC/blob/master/classes/13-expected_value_cost_benefit_analysis.ipynb)\n",
        "- [Visualizing Machine Learning Thresholds to Make Better Business Decisions](https://blog.insightdatascience.com/visualizing-machine-learning-thresholds-to-make-better-business-decisions-4ab07f823415)\n",
        "\n",
        "\n",
        "### Doing\n",
        "- [ ] Share visualizations in our Slack channel!\n",
        "- [ ] RandomizedSearchCV / GridSearchCV, for model selection. (See module 3 assignment notebook)\n",
        "- [ ] Stacking Ensemble. (See module 3 assignment notebook)\n",
        "- [ ] More Categorical Encoding. (See module 2 assignment notebook)"
      ]
    },
    {
      "cell_type": "code",
      "metadata": {
        "colab_type": "code",
        "id": "lsbRiKBoB5RE",
        "colab": {}
      },
      "source": [
        "%%capture\n",
        "import sys\n",
        "\n",
        "# If you're on Colab:\n",
        "if 'google.colab' in sys.modules:\n",
        "    DATA_PATH = 'https://raw.githubusercontent.com/LambdaSchool/DS-Unit-2-Kaggle-Challenge/master/data/'\n",
        "    !pip install category_encoders==2.*\n",
        "\n",
        "# If you're working locally:\n",
        "else:\n",
        "    DATA_PATH = '../data/'"
      ],
      "execution_count": 27,
      "outputs": []
    },
    {
      "cell_type": "code",
      "metadata": {
        "colab_type": "code",
        "id": "BVA1lph8CcNX",
        "colab": {}
      },
      "source": [
        "import pandas as pd\n",
        "\n",
        "# Merge train_features.csv & train_labels.csv\n",
        "train = pd.merge(pd.read_csv(DATA_PATH+'waterpumps/train_features.csv'), \n",
        "                 pd.read_csv(DATA_PATH+'waterpumps/train_labels.csv'))\n",
        "\n",
        "# Read test_features.csv & sample_submission.csv\n",
        "test = pd.read_csv(DATA_PATH+'waterpumps/test_features.csv')\n",
        "sample_submission = pd.read_csv(DATA_PATH+'waterpumps/sample_submission.csv')"
      ],
      "execution_count": 28,
      "outputs": []
    },
    {
      "cell_type": "code",
      "metadata": {
        "id": "UBzX_Nmklq5n",
        "colab_type": "code",
        "colab": {}
      },
      "source": [
        "def dimensionalityReduce(df):\n",
        "  '''\n",
        "  This function finds high dimensionality, string columns, and replaces\n",
        "  features which are not in the top 10 most common features with other\n",
        "  \n",
        "  df is a pandas dataframe\n",
        "  \n",
        "  returns the pandas dataframe with columns reduced'''\n",
        "  df = df.copy()\n",
        "  #Get categorical columns as a list\n",
        "  cate_cols = df.describe(include='object').columns.tolist()\n",
        "  \n",
        "  #Replace all categorical columns with high dimensionality with other\n",
        "  #print('DR catecols:\\t',cate_cols)\n",
        "  for col in cate_cols:\n",
        "    #do nothing if cardinality is less than 16\n",
        "    if(len(df[col].value_counts()) < 16 or col == 'region_code' or col == 'district_code'):\n",
        "      continue\n",
        "    \n",
        "    #Get top 15 values\n",
        "    top15 = train[col].value_counts()[:15].index\n",
        "    #Replace values\n",
        "    df.loc[~df[col].isin(top15), col] = 'OTHER'\n",
        "\n",
        "  return df\n",
        "\n",
        "#Drop columns with high NaN values, with 40% of values as NaN cutoff\n",
        "def NaNdrop(df, cutoff = 0.4):\n",
        "  '''\n",
        "  This function drops all columns which have high NaN values from a dataframe\n",
        "\n",
        "  df is a pandas dataframe\n",
        "  cutoff is the percent of NaN values in the column at which the column should be dropped\n",
        "\n",
        "  returns a df\n",
        "  '''\n",
        "  df = df.copy()\n",
        "  df = df.dropna(axis = 1, thresh = int(len(df) * cutoff))\n",
        "  df = df.interpolate().bfill().ffill()\n",
        "  return df\n",
        "def dropCorr(df):\n",
        "  '''\n",
        "  This function drops highly correlated columns from the dataframe\n",
        "\n",
        "  df is a pandas dataframe\n",
        "  '''\n",
        "  df = df.copy()\n",
        "  # Create correlation matrix\n",
        "  corr_matrix = df.corr().abs()\n",
        "\n",
        "  # Select upper triangle of correlation matrix\n",
        "  upper = corr_matrix.where(np.triu(np.ones(corr_matrix.shape), k=1).astype(np.bool))\n",
        "\n",
        "  # Find index of feature columns with correlation greater than 0.95\n",
        "  to_drop = [column for column in upper.columns if any(upper[column] > 0.5)]\n",
        "  return df.drop(to_drop, axis=1)\n",
        "def wrangle(df):\n",
        "  '''\n",
        "  This function wrangles and cleans a dataset for waterpumps from driven data\n",
        "  '''\n",
        "  import numpy as np\n",
        "  import pandas as pd\n",
        "  df = df.copy()\n",
        "  #Get the index\n",
        "  df.index = df.id\n",
        "  #Fix the date columns and expand into separate datasets\n",
        "  df['date_recorded'] = pd.to_datetime(df['date_recorded'])\n",
        "  df['year'] = df['date_recorded'].apply(lambda x: x.year)\n",
        "  df['month'] = df['date_recorded'].apply(lambda x: x.month)\n",
        "  df['day'] = df['date_recorded'].apply(lambda x: x.day)\n",
        "  \n",
        "  #Finding all the random values and replacing them\n",
        "  for col in df.columns:\n",
        "    df[col].replace(['None','unknown','0',\n",
        "                     -2.000000e-08,'none','1'],np.nan,inplace = True)\n",
        "  #specific changes to each column\n",
        "  df.region_code = df.region_code.apply(lambda x: str(x))\n",
        "  #print('region_code')\n",
        "  #print(df.region_code.value_counts())\n",
        "  df.district_code = df.district_code.apply(lambda x: str(x))\n",
        "  #print('district_code')\n",
        "  #print(df.district_code.value_counts())\n",
        "  df.population.replace([0,1],np.nan,inplace = True)\n",
        "  df.longitude.replace(0,np.nan,inplace=True)\n",
        "  df.construction_year.replace(0,np.nan,inplace=True)\n",
        "  #Drop all redundant and unnecessary columns\n",
        "  df.drop(['extraction_type','extraction_type_group','recorded_by',\n",
        "           'quality_group','quantity_group','waterpoint_type_group',\n",
        "           'num_private','id','date_recorded'],axis=1,inplace=True)\n",
        "  #Reduce dimensionality, then drop NaNs\n",
        "  df = NaNdrop(dimensionalityReduce(df))\n",
        "  df = dropCorr(df)\n",
        "  return df\n",
        "train = wrangle(train)\n",
        "test = wrangle(test)"
      ],
      "execution_count": 81,
      "outputs": []
    },
    {
      "cell_type": "code",
      "metadata": {
        "id": "qTzl23xHogGZ",
        "colab_type": "code",
        "colab": {}
      },
      "source": [
        "from sklearn.pipeline import Pipeline\n",
        "from category_encoders import OneHotEncoder\n",
        "from category_encoders import OrdinalEncoder\n",
        "from sklearn.impute import SimpleImputer\n",
        "from sklearn.preprocessing import StandardScaler\n",
        "from sklearn.compose import ColumnTransformer\n",
        "from sklearn.model_selection import RandomizedSearchCV\n",
        "from sklearn.model_selection import train_test_split\n",
        "from sklearn.preprocessing import FunctionTransformer\n",
        "\n",
        "from sklearn.ensemble import RandomForestClassifier\n",
        "from sklearn.ensemble import GradientBoostingClassifier\n",
        "from sklearn.neighbors import KNeighborsClassifier\n",
        "from sklearn.linear_model import SGDClassifier\n",
        "from sklearn.svm import LinearSVC\n",
        "\n",
        "from sklearn.metrics import accuracy_score as A_S\n",
        "\n",
        "import numpy as np"
      ],
      "execution_count": 31,
      "outputs": []
    },
    {
      "cell_type": "code",
      "metadata": {
        "id": "DlDXnwgrogwm",
        "colab_type": "code",
        "colab": {}
      },
      "source": [
        "#First, test with defaults\n",
        "X = train.drop('status_group',axis=1)\n",
        "y = train.status_group\n",
        "X_train,X_test,y_train,y_test = train_test_split(X, y, test_size=0.04, random_state=42,stratify=y)"
      ],
      "execution_count": 32,
      "outputs": []
    },
    {
      "cell_type": "code",
      "metadata": {
        "id": "aSSjZlhSxSQJ",
        "colab_type": "code",
        "colab": {
          "base_uri": "https://localhost:8080/",
          "height": 85
        },
        "outputId": "3738ede9-6555-4164-ff45-64b99f70144d"
      },
      "source": [
        "y_train.value_counts()"
      ],
      "execution_count": 33,
      "outputs": [
        {
          "output_type": "execute_result",
          "data": {
            "text/plain": [
              "functional                 30969\n",
              "non functional             21911\n",
              "functional needs repair     4144\n",
              "Name: status_group, dtype: int64"
            ]
          },
          "metadata": {
            "tags": []
          },
          "execution_count": 33
        }
      ]
    },
    {
      "cell_type": "code",
      "metadata": {
        "id": "uV_OuWgDxIaR",
        "colab_type": "code",
        "colab": {}
      },
      "source": [
        "#Collapsing the labels to 0 and 1\n",
        "mapDict = {'functional':'functional',\n",
        "               'non functional': 'non functional',\n",
        "               'functional needs repair': 'non functional'\n",
        "           }\n",
        "yT_train = y_train.apply(lambda x: mapDict[x])\n",
        "yT_test = y_test.apply(lambda x: mapDict[x])"
      ],
      "execution_count": 34,
      "outputs": []
    },
    {
      "cell_type": "code",
      "metadata": {
        "id": "8CDUJzWRycYf",
        "colab_type": "code",
        "colab": {
          "base_uri": "https://localhost:8080/",
          "height": 68
        },
        "outputId": "4e54e7c2-0c4d-49cd-e7e4-097017a0f3a9"
      },
      "source": [
        "yT_train.value_counts()"
      ],
      "execution_count": 35,
      "outputs": [
        {
          "output_type": "execute_result",
          "data": {
            "text/plain": [
              "functional        30969\n",
              "non functional    26055\n",
              "Name: status_group, dtype: int64"
            ]
          },
          "metadata": {
            "tags": []
          },
          "execution_count": 35
        }
      ]
    },
    {
      "cell_type": "code",
      "metadata": {
        "id": "FQUQRv8lokff",
        "colab_type": "code",
        "colab": {
          "base_uri": "https://localhost:8080/",
          "height": 34
        },
        "outputId": "fa2de48b-4532-4e86-efe6-bf31ab346472"
      },
      "source": [
        "params = {'model__n_estimators':np.linspace(100,150,10,dtype='int64'),\n",
        "          #'model__max_depth':[None] + np.linspace(5000,53460,5,dtype='int64').tolist(),\n",
        "          #'model__min_samples_split':np.linspace(2,20,5,dtype='int64'),\n",
        "          #'model__min_samples_leaf': np.linspace(1,20,5,dtype='int64'),\n",
        "          # 'model__min_weight_fraction_leaf': np.linspace(0,0.9,5),\n",
        "          #'model__max_features':['log2'] + np.linspace(np.sqrt(len(X_train.columns)),len(X_train.columns)-2,5).tolist(),\n",
        "          #'model__max_leaf_nodes':np.linspace(10000,53460,5,dtype='int64').tolist(),\n",
        "          #'model__min_impurity_decrease':np.linspace(0,0.9,5),\n",
        "          # 'model__bootstrap':[True,False],\n",
        "          #'model__class_weight':['balanced','balanced_subsample'],\n",
        "          #'model__ccp_alpha':np.linspace(0,0.6,5).tolist(),\n",
        "          }\n",
        "\n",
        "pipe = Pipeline([#Encode categorical columns\n",
        "                 ('cust_transform',FunctionTransformer(wrangle)),\n",
        "                ('oneHot',OrdinalEncoder()),\n",
        "                #Scale numeric columns\n",
        "                ('scaler',StandardScaler()),\n",
        "                #Instantiate the model\n",
        "                ('model',RandomForestClassifier(random_state=91))])\n",
        "grid = RandomizedSearchCV(pipe, param_distributions =params,n_jobs=-1,cv = 3)\n",
        "grid.fit(X_train,y_train)\n",
        "y_pred = grid.predict(X_test)\n",
        "\n",
        "# pipe.fit(X_train,y_train)\n",
        "# y_pred = pipe.predict(X_test)\n",
        "\n",
        "print('Score:\\t',A_S(y_test,y_pred))"
      ],
      "execution_count": 60,
      "outputs": [
        {
          "output_type": "stream",
          "text": [
            "Score:\t 0.805976430976431\n"
          ],
          "name": "stdout"
        }
      ]
    },
    {
      "cell_type": "code",
      "metadata": {
        "id": "ufbdqbHNRDq3",
        "colab_type": "code",
        "colab": {
          "base_uri": "https://localhost:8080/",
          "height": 408
        },
        "outputId": "b73ac9e9-c79e-415a-8cf3-99e9fa5959b5"
      },
      "source": [
        "grid.best_estimator_"
      ],
      "execution_count": 61,
      "outputs": [
        {
          "output_type": "execute_result",
          "data": {
            "text/plain": [
              "Pipeline(memory=None,\n",
              "         steps=[('cust_transform',\n",
              "                 FunctionTransformer(accept_sparse=False, check_inverse=True,\n",
              "                                     func=<function wrangle at 0x7efbfa240e18>,\n",
              "                                     inv_kw_args=None, inverse_func=None,\n",
              "                                     kw_args=None, validate=False)),\n",
              "                ('oneHot',\n",
              "                 OrdinalEncoder(cols=['funder', 'installer', 'wpt_name',\n",
              "                                      'basin', 'subvillage', 'region',\n",
              "                                      'region_code', 'district_code', 'lga',\n",
              "                                      'ward', 'sche...\n",
              "                 RandomForestClassifier(bootstrap=True, ccp_alpha=0.0,\n",
              "                                        class_weight=None, criterion='gini',\n",
              "                                        max_depth=None, max_features='auto',\n",
              "                                        max_leaf_nodes=None, max_samples=None,\n",
              "                                        min_impurity_decrease=0.0,\n",
              "                                        min_impurity_split=None,\n",
              "                                        min_samples_leaf=1, min_samples_split=2,\n",
              "                                        min_weight_fraction_leaf=0.0,\n",
              "                                        n_estimators=150, n_jobs=None,\n",
              "                                        oob_score=False, random_state=91,\n",
              "                                        verbose=0, warm_start=False))],\n",
              "         verbose=False)"
            ]
          },
          "metadata": {
            "tags": []
          },
          "execution_count": 61
        }
      ]
    },
    {
      "cell_type": "code",
      "metadata": {
        "id": "icrC7EL44aP4",
        "colab_type": "code",
        "colab": {}
      },
      "source": [
        "\n",
        "from sklearn.neighbors import KNeighborsClassifier\n",
        "from sklearn.linear_model import SGDClassifier\n",
        "from sklearn.svm import LinearSVC\n",
        "from sklearn.ensemble import StackingClassifier\n",
        "from sklearn.linear_model import RidgeClassifierCV\n",
        "from sklearn.linear_model import RidgeClassifier\n",
        "from sklearn.linear_model import LogisticRegression"
      ],
      "execution_count": 63,
      "outputs": []
    },
    {
      "cell_type": "code",
      "metadata": {
        "id": "KhbEoPey8HGd",
        "colab_type": "code",
        "colab": {}
      },
      "source": [
        "from sklearn.preprocessing import label_binarize\n",
        "yTT_train = label_binarize(y_train,y_train.value_counts().index)\n",
        "yTT_test = label_binarize(y_test,y_test.value_counts().index)"
      ],
      "execution_count": 57,
      "outputs": []
    },
    {
      "cell_type": "code",
      "metadata": {
        "id": "5XqtByWw3d-_",
        "colab_type": "code",
        "colab": {}
      },
      "source": [
        "#Trying a stacking classifier\n",
        "preds = []\n",
        "estimators = [\n",
        "              ('rf',RandomForestClassifier(random_state=91)),\n",
        "              ('svc',LinearSVC(random_state=91)),\n",
        "              ('knn',KNeighborsClassifier())\n",
        "              ]\n",
        "final_estimators = [LogisticRegression()\n",
        "                    #RidgeClassifier(),\n",
        "                    #KNeighborsClassifier() #No improvement\n",
        "                    ]\n",
        "for fe in final_estimators:\n",
        "  model = StackingClassifier(estimators = estimators, n_jobs=-1,final_estimator=fe)\n",
        "\n",
        "  pipe = Pipeline([#Encode categorical columns\n",
        "                  ('cust_transform',FunctionTransformer(wrangle)),\n",
        "                  ('oneHot',OrdinalEncoder()),\n",
        "                  #Handle missing data\n",
        "                  #('impute',SimpleImputer(strategy = 'most_frequent')),\n",
        "                  #Scale numeric columns\n",
        "                  ('scaler',StandardScaler()),\n",
        "                  #Instantiate the model\n",
        "                  ('model',model)])\n",
        "\n",
        "  pipe.fit(X_train,y_train)\n",
        "  y_pred = pipe.predict(X_test)\n",
        "  score = A_S(y_test,y_pred)\n",
        "  print('Score:\\t',score)\n",
        "  if score > 0.81:\n",
        "    preds.append((y_pred,fe))"
      ],
      "execution_count": null,
      "outputs": []
    },
    {
      "cell_type": "code",
      "metadata": {
        "id": "f_49OJ0-9nDv",
        "colab_type": "code",
        "colab": {
          "base_uri": "https://localhost:8080/",
          "height": 34
        },
        "outputId": "e5f2cb6f-f880-4b11-bd3b-09632d8b9469"
      },
      "source": [
        "#Testing if label transformation increases accuracy\n",
        "#Testing if dropping highly correlated features increases accurace\n",
        "#It did not\n",
        "pipe = Pipeline([#Encode categorical columns\n",
        "                 ('cust_transform',FunctionTransformer(wrangle)),\n",
        "                ('oneHot',OrdinalEncoder()),\n",
        "                #Handle missing data\n",
        "                #('impute',SimpleImputer(strategy = 'most_frequent')),\n",
        "                #Scale numeric columns\n",
        "                ('scaler',StandardScaler()),\n",
        "                #Instantiate the model\n",
        "                ('model',RandomForestClassifier(random_state=91))])\n",
        "# grid = RandomizedSearchCV(pipe, param_distributions =params,n_jobs=-1,cv = 3)\n",
        "# grid.fit(X_train,y_train)\n",
        "# y_pred = grid.predict(X_test)\n",
        "\n",
        "pipe.fit(X_train,y_train)\n",
        "y_pred = pipe.predict(X_test)\n",
        "\n",
        "score = A_S(y_test,y_pred)\n",
        "print('Score:\\t',score)\n",
        "if score > 0.81:\n",
        "  print(y_pred)"
      ],
      "execution_count": 84,
      "outputs": [
        {
          "output_type": "stream",
          "text": [
            "Score:\t 0.8097643097643098\n"
          ],
          "name": "stdout"
        }
      ]
    },
    {
      "cell_type": "code",
      "metadata": {
        "id": "qnmhRMOKVpF3",
        "colab_type": "code",
        "colab": {
          "base_uri": "https://localhost:8080/",
          "height": 34
        },
        "outputId": "c1dae93b-89f6-4570-f248-b43792b4423d"
      },
      "source": [
        "y_pred = pipe.predict(X_test)\n",
        "score = A_S(y_test,y_pred)\n",
        "print('Score:\\t',score)"
      ],
      "execution_count": 86,
      "outputs": [
        {
          "output_type": "stream",
          "text": [
            "Score:\t 0.8097643097643098\n"
          ],
          "name": "stdout"
        }
      ]
    },
    {
      "cell_type": "code",
      "metadata": {
        "id": "pRTKJJLgVP12",
        "colab_type": "code",
        "colab": {
          "base_uri": "https://localhost:8080/",
          "height": 17
        },
        "outputId": "5fb36575-855d-4028-8a14-c2284c32dd66"
      },
      "source": [
        "def model_save(id,y_pred,name):\n",
        "  '''\n",
        "  This function saves a model given an ID column and predicted values, along with a name\n",
        "  id is a pandas series of IDs for each row\n",
        "  y_pred is a numpy array, output of model.predict\n",
        "  name is a string that you want to call your csv file\n",
        "  '''\n",
        "  submission = pd.DataFrame(id)\n",
        "  submission['status_group'] = pd.Series(y_pred)\n",
        "  submission.head()\n",
        "  submission.to_csv(name,index=False)\n",
        "  from google.colab import files\n",
        "  files.download(name)\n",
        "model_save(test.index,y_pred,'thursSub.csv')"
      ],
      "execution_count": 87,
      "outputs": [
        {
          "output_type": "display_data",
          "data": {
            "application/javascript": [
              "\n",
              "    async function download(id, filename, size) {\n",
              "      if (!google.colab.kernel.accessAllowed) {\n",
              "        return;\n",
              "      }\n",
              "      const div = document.createElement('div');\n",
              "      const label = document.createElement('label');\n",
              "      label.textContent = `Downloading \"${filename}\": `;\n",
              "      div.appendChild(label);\n",
              "      const progress = document.createElement('progress');\n",
              "      progress.max = size;\n",
              "      div.appendChild(progress);\n",
              "      document.body.appendChild(div);\n",
              "\n",
              "      const buffers = [];\n",
              "      let downloaded = 0;\n",
              "\n",
              "      const channel = await google.colab.kernel.comms.open(id);\n",
              "      // Send a message to notify the kernel that we're ready.\n",
              "      channel.send({})\n",
              "\n",
              "      for await (const message of channel.messages) {\n",
              "        // Send a message to notify the kernel that we're ready.\n",
              "        channel.send({})\n",
              "        if (message.buffers) {\n",
              "          for (const buffer of message.buffers) {\n",
              "            buffers.push(buffer);\n",
              "            downloaded += buffer.byteLength;\n",
              "            progress.value = downloaded;\n",
              "          }\n",
              "        }\n",
              "      }\n",
              "      const blob = new Blob(buffers, {type: 'application/binary'});\n",
              "      const a = document.createElement('a');\n",
              "      a.href = window.URL.createObjectURL(blob);\n",
              "      a.download = filename;\n",
              "      div.appendChild(a);\n",
              "      a.click();\n",
              "      div.remove();\n",
              "    }\n",
              "  "
            ],
            "text/plain": [
              "<IPython.core.display.Javascript object>"
            ]
          },
          "metadata": {
            "tags": []
          }
        },
        {
          "output_type": "display_data",
          "data": {
            "application/javascript": [
              "download(\"download_ac150232-e5c0-471f-aa47-328f67c0f451\", \"thursSub.csv\", 126797)"
            ],
            "text/plain": [
              "<IPython.core.display.Javascript object>"
            ]
          },
          "metadata": {
            "tags": []
          }
        }
      ]
    },
    {
      "cell_type": "code",
      "metadata": {
        "id": "q12dBbHe6mbq",
        "colab_type": "code",
        "colab": {
          "base_uri": "https://localhost:8080/",
          "height": 34
        },
        "outputId": "4ce241fe-7bae-42d2-9887-2009b0168653"
      },
      "source": [
        "#This cell stores the stacking classifier when the final estimator was logistic regression\n",
        "#got accuracy score of 0.804\n",
        "logistic_y_pred = y_pred\n",
        "print(A_S(y_test,y_pred))\n",
        "if score > 0.81:\n",
        "    preds.append((y_pred,fe))\n",
        "    "
      ],
      "execution_count": 49,
      "outputs": [
        {
          "output_type": "stream",
          "text": [
            "0.8042929292929293\n"
          ],
          "name": "stdout"
        }
      ]
    },
    {
      "cell_type": "markdown",
      "metadata": {
        "id": "joVI0xXznE3p",
        "colab_type": "text"
      },
      "source": [
        "###Plot a confusion matrix for your Tanzania Waterpumps model.\n"
      ]
    },
    {
      "cell_type": "code",
      "metadata": {
        "id": "ki9q1xIEnuTB",
        "colab_type": "code",
        "colab": {
          "base_uri": "https://localhost:8080/",
          "height": 358
        },
        "outputId": "8bb72832-913a-4c9d-9a30-67225b3a03a8"
      },
      "source": [
        "from sklearn.metrics import plot_confusion_matrix\n",
        "#Note, yT_test has labels collapsed to 2, rather than 3\n",
        "plot_confusion_matrix(pipe,X_test,yT_test,values_format = '0.1f',\n",
        "                      xticks_rotation='vertical',)"
      ],
      "execution_count": 37,
      "outputs": [
        {
          "output_type": "execute_result",
          "data": {
            "text/plain": [
              "<sklearn.metrics._plot.confusion_matrix.ConfusionMatrixDisplay at 0x7efbe5041940>"
            ]
          },
          "metadata": {
            "tags": []
          },
          "execution_count": 37
        },
        {
          "output_type": "display_data",
          "data": {
            "image/png": "[encoded data removed]",
            "text/plain": [
              "<Figure size 432x288 with 2 Axes>"
            ]
          },
          "metadata": {
            "tags": [],
            "needs_background": "light"
          }
        }
      ]
    },
    {
      "cell_type": "code",
      "metadata": {
        "id": "rv09UqR9tcrL",
        "colab_type": "code",
        "colab": {}
      },
      "source": [
        "from sklearn.metrics import classification_report\n",
        "\n",
        "classification_report(y_test,y_pred)"
      ],
      "execution_count": 37,
      "outputs": []
    },
    {
      "cell_type": "code",
      "metadata": {
        "id": "gUQaGA68etCE",
        "colab_type": "code",
        "colab": {}
      },
      "source": [
        ""
      ],
      "execution_count": null,
      "outputs": []
    }
  ]
}