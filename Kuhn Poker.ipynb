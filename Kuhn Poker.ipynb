{
 "cells": [
  {
   "cell_type": "code",
   "execution_count": 105,
   "metadata": {},
   "outputs": [],
   "source": [
    "#Kuhn Poker is a 3 action, partial information game\n",
    "#This program implements CFR for one player"
   ]
  },
  {
   "cell_type": "code",
   "execution_count": 106,
   "metadata": {},
   "outputs": [],
   "source": [
    "PASS = 0\n",
    "BET = 1\n",
    "NUM_ACTIONS = 2"
   ]
  },
  {
   "cell_type": "code",
   "execution_count": 107,
   "metadata": {},
   "outputs": [],
   "source": [
    "from random import seed\n",
    "from random import random\n",
    "from random import shuffle\n",
    "seed(42)"
   ]
  },
  {
   "cell_type": "code",
   "execution_count": 108,
   "metadata": {},
   "outputs": [],
   "source": [
    "from blist import sorteddict"
   ]
  },
  {
   "cell_type": "code",
   "execution_count": 109,
   "metadata": {},
   "outputs": [],
   "source": [
    "#SortedDict is close to TreeMap class from Java\n",
    "nodeMap = sorteddict()"
   ]
  },
  {
   "cell_type": "markdown",
   "metadata": {},
   "source": [
    "#Node definitions\n",
    "infoSet = \"\"\n",
    "regretSum = [0.0] * NUM_ACTIONS\n",
    "strategy  = [0.0] * NUM_ACTIONS\n",
    "strategySum = [0.0] * NUM_ACTIONS\n",
    "print(regretSum)"
   ]
  },
  {
   "cell_type": "markdown",
   "metadata": {},
   "source": [
    "#This function returns the current strategy of a given trainer\n",
    "def getStrategy(realizationWeight):\n",
    "    normalizingSum = 0.0\n",
    "    for a in range(NUM_ACTIONS):\n",
    "        strategy[a] = regretSum[a] if (regretSum[a] > 0.0) else 0.0\n",
    "        normalizingSum += strategy[a]\n",
    "    for a in range(NUM_ACTIONS):\n",
    "        if(normalizingSum > 0):\n",
    "            strategy[a] /= normalizingSum\n",
    "        else:\n",
    "            strategy[a] = 1.0 / NUM_ACTIONS\n",
    "        strategySum[a] += realizationWeight * strategy[a]\n",
    "    return strategy"
   ]
  },
  {
   "cell_type": "code",
   "execution_count": 110,
   "metadata": {},
   "outputs": [],
   "source": [
    "def getAverageStrategy():\n",
    "    avgStrategy = [0.0] * NUM_ACTIONS\n",
    "    normalizingSum = 0.0\n",
    "    for a in range(NUM_ACTIONS):\n",
    "        normalizingSum += strategySum[a]\n",
    "    for a in range (NUM_ACTIONS):\n",
    "        if(normalizingSum > 0):\n",
    "            avgStrategy[a] = strategySum[a] / normalizingSum\n",
    "        else:\n",
    "            avgStrategy[a] = 1.0 / NUM_ACTIONS\n",
    "    return avgStrategy"
   ]
  },
  {
   "cell_type": "code",
   "execution_count": 111,
   "metadata": {},
   "outputs": [
    {
     "data": {
      "text/plain": [
       "'    : [0.5, 0.5]'"
      ]
     },
     "execution_count": 111,
     "metadata": {},
     "output_type": "execute_result"
    }
   ],
   "source": [
    "def toString():\n",
    "    return '{:4}: {}'.format(infoSet, str(getAverageStrategy()))\n",
    "toString()"
   ]
  },
  {
   "cell_type": "code",
   "execution_count": 112,
   "metadata": {},
   "outputs": [],
   "source": [
    "class Node:\n",
    "    #Node definitions\n",
    "    infoSet = \"\"\n",
    "    regretSum = [0.0] * NUM_ACTIONS\n",
    "    #strategy  = [0.0] * NUM_ACTIONS\n",
    "    strategySum = [0.0] * NUM_ACTIONS\n",
    "    nodeMap = sorteddict()\n",
    "    #Get current information set mixed strategy through regret-matching\n",
    "    def getStrategy(self,realizationWeight):\n",
    "        normalizingSum = 0.0\n",
    "        for a in range(NUM_ACTIONS):\n",
    "            strategy[a] = regretSum[a] if (regretSum[a] > 0.0) else 0.0\n",
    "            normalizingSum += strategy[a]\n",
    "        for a in range(NUM_ACTIONS):\n",
    "            if(normalizingSum > 0):\n",
    "                strategy[a] /= normalizingSum\n",
    "            else:\n",
    "                strategy[a] = 1.0 / NUM_ACTIONS\n",
    "            strategySum[a] += realizationWeight * strategy[a]\n",
    "        return strategy\n",
    "    #get average information set mixed strategy across all training iterations\n",
    "    def getAverageStrategy():\n",
    "        avgStrategy = [0.0] * NUM_ACTIONS\n",
    "        normalizingSum = 0.0\n",
    "        for a in range(NUM_ACTIONS):\n",
    "            normalizingSum += strategySum[a]\n",
    "        for a in range (NUM_ACTIONS):\n",
    "            if(normalizingSum > 0):\n",
    "                avgStrategy[a] = strategySum[a] / normalizingSum\n",
    "            else:\n",
    "                avgStrategy[a] = 1.0 / NUM_ACTIONS\n",
    "        return avgStrategy\n",
    "    #get information set string representation\n",
    "    def toString(self):\n",
    "        return '{:4}: {}'.format(infoSet, str(getAverageStrategy()))"
   ]
  },
  {
   "cell_type": "code",
   "execution_count": 113,
   "metadata": {},
   "outputs": [],
   "source": [
    "def cfr(cards, history, p0,p1):\n",
    "    plays = len(history)\n",
    "    player = plays % 2\n",
    "    opponent = 1 - player\n",
    "    #Return payoff for terminal states\n",
    "    if(plays > 1):\n",
    "        terminalPass = history[plays - 1] == 'p'\n",
    "        doubleBet = history[plays-2:plays] == 'bb'\n",
    "        isPlayerCardHigher = cards[player] > cards[opponent]\n",
    "        if terminalPass:\n",
    "            if(history == 'pp'):\n",
    "                return 1 if isPlayerCardHigher else -1\n",
    "            else:\n",
    "                return 1\n",
    "        elif (doubleBet):\n",
    "            return 2 if isPlayerCardHigher else -2\n",
    "    infoSet = str(cards[player]) + history\n",
    "    #get information set node or create if nonexistant\n",
    "    node = nodeMap.get(infoSet)\n",
    "    if(node == None):\n",
    "       node = Node()\n",
    "       node.infoSet = infoSet\n",
    "       nodeMap[infoSet] = node\n",
    "    #For each action, recursively call cfr with additional history and probability\n",
    "    strategy = node.getStrategy(p0 if (player == 0 ) else p1)\n",
    "    util = [0.0] * NUM_ACTIONS\n",
    "    nodeUtil = 0\n",
    "    for a in range(NUM_ACTIONS):\n",
    "       nextHistory = history + ('p' if (a == 0) else 'b')\n",
    "       util[a] = -cfr(cards,nextHistory,p0 * strategy[a],p1) if player == 0 else -cfr(cards,nextHistory,p0,p1 * strategy[a])\n",
    "       nodeUtil += strategy[a] * util[a]\n",
    "    #For each action, compute and accumulate counterfactual regret\n",
    "    for a in range(NUM_ACTIONS):\n",
    "       regret = util[a] - nodeUtil\n",
    "       node.regretSum[a] += (p1 if (player == 0) else p0) * regret\n",
    "    \n",
    "   \n",
    "    return nodeUtil"
   ]
  },
  {
   "cell_type": "code",
   "execution_count": 114,
   "metadata": {},
   "outputs": [],
   "source": [
    "def train(iterations):\n",
    "    cards = [1,2,3]\n",
    "    util = 0.0\n",
    "    for i in range(iterations):\n",
    "        shuffle(cards)\n",
    "        util += cfr(cards,\"\",1,1)\n",
    "    print(\"Average game value: \" + str(float(util / iterations)))\n",
    "    for a in nodeMap.values():\n",
    "        print(a.toString())"
   ]
  },
  {
   "cell_type": "code",
   "execution_count": null,
   "metadata": {},
   "outputs": [],
   "source": [
    "train(1000000)"
   ]
  },
  {
   "cell_type": "code",
   "execution_count": null,
   "metadata": {},
   "outputs": [],
   "source": []
  }
 ],
 "metadata": {
  "kernelspec": {
   "display_name": "Python 3",
   "language": "python",
   "name": "python3"
  },
  "language_info": {
   "codemirror_mode": {
    "name": "ipython",
    "version": 3
   },
   "file_extension": ".py",
   "mimetype": "text/x-python",
   "name": "python",
   "nbconvert_exporter": "python",
   "pygments_lexer": "ipython3",
   "version": "3.6.5"
  }
 },
 "nbformat": 4,
 "nbformat_minor": 2
}
